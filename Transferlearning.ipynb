{
 "cells": [
  {
   "cell_type": "markdown",
   "metadata": {},
   "source": [
    "TODO\n",
    "* Image normalization and scaling\n",
    "* selected layers trainable=true\n",
    "* try with berkeley people data\n",
    "* try with filter/nofilter on same image data\n",
    "* data augmentation (rotate/mirror original image and filtered image)\n",
    "* inception v1 \n"
   ]
  },
  {
   "cell_type": "code",
   "execution_count": 100,
   "metadata": {},
   "outputs": [],
   "source": [
    "# Dependencies\n",
    "import matplotlib.pyplot as plt\n",
    "%matplotlib inline\n",
    "import pprint as pp\n",
    "\n",
    "import os\n",
    "import glob\n",
    "import numpy as np\n",
    "import tensorflow as tf\n",
    "\n",
    "import keras\n",
    "from keras.layers import (Flatten,Dropout)\n",
    "from keras.preprocessing import image\n",
    "from keras.applications.vgg19 import (\n",
    "    VGG19, preprocess_input, decode_predictions)"
   ]
  },
  {
   "cell_type": "code",
   "execution_count": 2,
   "metadata": {},
   "outputs": [
    {
     "name": "stdout",
     "output_type": "stream",
     "text": [
      "[name: \"/device:CPU:0\"\n",
      "device_type: \"CPU\"\n",
      "memory_limit: 268435456\n",
      "locality {\n",
      "}\n",
      "incarnation: 13307455544002521170\n",
      ", name: \"/device:GPU:0\"\n",
      "device_type: \"GPU\"\n",
      "memory_limit: 11286285517\n",
      "locality {\n",
      "  bus_id: 1\n",
      "  links {\n",
      "  }\n",
      "}\n",
      "incarnation: 16220969481776354199\n",
      "physical_device_desc: \"device: 0, name: Tesla K80, pci bus id: 0000:00:1e.0, compute capability: 3.7\"\n",
      "]\n"
     ]
    }
   ],
   "source": [
    "from keras import backend as K\n",
    "K.tensorflow_backend._get_available_gpus()\n",
    "\n",
    "from tensorflow.python.client import device_lib\n",
    "print(device_lib.list_local_devices())"
   ]
  },
  {
   "cell_type": "code",
   "execution_count": 5,
   "metadata": {},
   "outputs": [],
   "source": [
    "# pp.pprint(model.layers)\n",
    "# pp.pprint(model.output)"
   ]
  },
  {
   "cell_type": "code",
   "execution_count": 6,
   "metadata": {},
   "outputs": [],
   "source": [
    "# Keras\n",
    "from keras.models import Sequential, Model\n",
    "from keras.utils import to_categorical\n",
    "from keras.layers import Dense, GlobalAveragePooling2D\n",
    "from keras.datasets import mnist"
   ]
  },
  {
   "cell_type": "code",
   "execution_count": 47,
   "metadata": {},
   "outputs": [],
   "source": [
    "# load image data\n",
    "\n",
    "filtered_images_path= glob.glob('./imgs_with_filter/imgs_with_filter/*')\n",
    "unfiltered_imgs_path=glob.glob('./unfiltered_1083/*')"
   ]
  },
  {
   "cell_type": "code",
   "execution_count": 25,
   "metadata": {},
   "outputs": [],
   "source": [
    "# load image data\n",
    "\n",
    "filtered_images_path= glob.glob('/mnt/efs/filters_to_images/filtered_images/*')[:5000]\n",
    "unfiltered_imgs_path=glob.glob('/mnt/efs/filters_to_images/unfiltered_images/*')[:5000]"
   ]
  },
  {
   "cell_type": "code",
   "execution_count": 89,
   "metadata": {
    "scrolled": true
   },
   "outputs": [
    {
     "name": "stdout",
     "output_type": "stream",
     "text": [
      "-----------------0---------------   time:  0.00010728836059570312\n",
      "-----------------100---------------   time:  1.359464406967163\n",
      "-----------------200---------------   time:  2.6855318546295166\n",
      "-----------------300---------------   time:  4.0711400508880615\n",
      "-----------------400---------------   time:  5.432503700256348\n",
      "-----------------500---------------   time:  6.765442609786987\n",
      "-----------------600---------------   time:  8.12806248664856\n",
      "-----------------700---------------   time:  9.777694463729858\n",
      "-----------------800---------------   time:  11.165361881256104\n",
      "-----------------900---------------   time:  12.711575746536255\n",
      "-----------------1000---------------   time:  14.066686391830444\n",
      "-----------------1100---------------   time:  15.557370901107788\n",
      "-----------------1200---------------   time:  16.972898483276367\n",
      "-----------------1300---------------   time:  18.374518871307373\n",
      "-----------------1400---------------   time:  19.76650381088257\n",
      "-----------------1500---------------   time:  21.19990825653076\n",
      "-----------------1600---------------   time:  22.59553861618042\n",
      "-----------------1700---------------   time:  24.010735511779785\n",
      "-----------------1800---------------   time:  25.58786177635193\n",
      "-----------------1900---------------   time:  27.18030834197998\n",
      "-----------------2000---------------   time:  28.557800769805908\n",
      "-----------------2100---------------   time:  30.033180475234985\n",
      "-----------------2200---------------   time:  31.540292024612427\n",
      "-----------------2300---------------   time:  32.96371841430664\n",
      "-----------------2400---------------   time:  34.412827014923096\n",
      "-----------------2500---------------   time:  36.011141777038574\n",
      "-----------------2600---------------   time:  37.610018491744995\n",
      "-----------------2700---------------   time:  38.97706627845764\n",
      "-----------------2800---------------   time:  40.41539764404297\n",
      "-----------------2900---------------   time:  41.79755234718323\n",
      "-----------------3000---------------   time:  43.23604965209961\n",
      "-----------------3100---------------   time:  44.747180223464966\n",
      "-----------------3200---------------   time:  46.554173707962036\n",
      "-----------------3300---------------   time:  48.342413663864136\n",
      "-----------------3400---------------   time:  49.7907555103302\n",
      "-----------------3500---------------   time:  51.161577463150024\n",
      "-----------------3600---------------   time:  52.598660945892334\n",
      "-----------------3700---------------   time:  53.972967863082886\n",
      "-----------------3800---------------   time:  55.3429536819458\n",
      "-----------------3900---------------   time:  56.69937992095947\n",
      "-----------------4000---------------   time:  58.114989280700684\n",
      "-----------------4100---------------   time:  59.89560890197754\n",
      "-----------------4200---------------   time:  61.26156044006348\n",
      "-----------------4300---------------   time:  62.652830839157104\n",
      "-----------------4400---------------   time:  64.08180093765259\n",
      "-----------------4500---------------   time:  65.494384765625\n",
      "-----------------4600---------------   time:  67.01949739456177\n",
      "-----------------4700---------------   time:  68.4103045463562\n",
      "-----------------4800---------------   time:  69.85497069358826\n",
      "-----------------4900---------------   time:  71.25377440452576\n",
      "-----------------5000---------------   time:  72.97313022613525\n",
      "-----------------5100---------------   time:  74.67557525634766\n",
      "-----------------5200---------------   time:  76.28824877738953\n",
      "-----------------5300---------------   time:  77.82676267623901\n",
      "-----------------5400---------------   time:  79.37334990501404\n",
      "-----------------5500---------------   time:  80.96017837524414\n",
      "-----------------5600---------------   time:  82.48931503295898\n",
      "-----------------5700---------------   time:  84.20500826835632\n",
      "-----------------5800---------------   time:  85.72946572303772\n",
      "-----------------5900---------------   time:  87.38854217529297\n",
      "-----------------6000---------------   time:  88.87747812271118\n",
      "-----------------6100---------------   time:  90.4718496799469\n",
      "-----------------6200---------------   time:  92.02547216415405\n",
      "-----------------6300---------------   time:  93.53449487686157\n",
      "-----------------6400---------------   time:  95.10727190971375\n",
      "-----------------6500---------------   time:  96.68712830543518\n",
      "-----------------6600---------------   time:  98.1846661567688\n",
      "-----------------6700---------------   time:  99.74735403060913\n",
      "-----------------6800---------------   time:  101.41694760322571\n",
      "-----------------6900---------------   time:  103.07341289520264\n",
      "-----------------7000---------------   time:  104.53437161445618\n",
      "-----------------7100---------------   time:  106.07288718223572\n",
      "-----------------7200---------------   time:  107.69818425178528\n",
      "-----------------7300---------------   time:  109.18800735473633\n",
      "-----------------7400---------------   time:  110.72985196113586\n",
      "-----------------7500---------------   time:  112.4295105934143\n",
      "-----------------7600---------------   time:  114.06152772903442\n",
      "-----------------7700---------------   time:  115.55594253540039\n",
      "-----------------7800---------------   time:  117.11182498931885\n",
      "-----------------7900---------------   time:  118.67561960220337\n",
      "-----------------8000---------------   time:  120.14483976364136\n",
      "-----------------8100---------------   time:  121.74553751945496\n",
      "-----------------8200---------------   time:  123.49355745315552\n",
      "-----------------8300---------------   time:  125.32873773574829\n",
      "-----------------8400---------------   time:  126.8592758178711\n",
      "-----------------8500---------------   time:  128.4010145664215\n",
      "-----------------8600---------------   time:  129.95129704475403\n",
      "-----------------8700---------------   time:  131.50816082954407\n",
      "-----------------8800---------------   time:  132.98748111724854\n",
      "-----------------8900---------------   time:  134.48027777671814\n",
      "-----------------9000---------------   time:  136.05654120445251\n",
      "-----------------9100---------------   time:  137.82444500923157\n",
      "-----------------9200---------------   time:  139.30753707885742\n",
      "-----------------9300---------------   time:  140.78013062477112\n",
      "-----------------9400---------------   time:  142.3119432926178\n",
      "-----------------9500---------------   time:  143.80385065078735\n",
      "-----------------9600---------------   time:  145.43572759628296\n",
      "-----------------9700---------------   time:  146.92825627326965\n",
      "-----------------9800---------------   time:  148.4207582473755\n",
      "-----------------9900---------------   time:  150.0361578464508\n"
     ]
    }
   ],
   "source": [
    "import time\n",
    "\n",
    "images_path=filtered_images_path+unfiltered_imgs_path\n",
    "images_list=[]\n",
    "#Inception\n",
    "image_size = (229,229)\n",
    "\n",
    "#VGG19\n",
    "# image_size = (224,224)\n",
    "\n",
    "old_time = time.time()\n",
    "for idx, img_path in enumerate(images_path):\n",
    "    if idx % 100 == 0: print('-----------------{}---------------   time: '.format(idx), time.time() - old_time)\n",
    "    image_stored=image.load_img(img_path,target_size=image_size)\n",
    "    \n",
    "    # Preprocess image for model prediction\n",
    "# This step handles scaling and normalization for Xception\n",
    "    x = image.img_to_array(image_stored)\n",
    "#     x = np.expand_dims(x, axis=0)\n",
    "    x = preprocess_input(x)\n",
    "    images_list.append(x)\n",
    "    \n",
    "# X=images_list[0]"
   ]
  },
  {
   "cell_type": "code",
   "execution_count": null,
   "metadata": {},
   "outputs": [],
   "source": []
  },
  {
   "cell_type": "code",
   "execution_count": 16,
   "metadata": {},
   "outputs": [],
   "source": [
    "X=np.array(images_list)"
   ]
  },
  {
   "cell_type": "code",
   "execution_count": 17,
   "metadata": {},
   "outputs": [
    {
     "data": {
      "text/plain": [
       "10000"
      ]
     },
     "execution_count": 17,
     "metadata": {},
     "output_type": "execute_result"
    }
   ],
   "source": [
    "len(X)\n"
   ]
  },
  {
   "cell_type": "code",
   "execution_count": 27,
   "metadata": {},
   "outputs": [
    {
     "data": {
      "text/plain": [
       "numpy.ndarray"
      ]
     },
     "execution_count": 27,
     "metadata": {},
     "output_type": "execute_result"
    }
   ],
   "source": [
    "filtered_labels=np.full((len(filtered_images_path),2),(True,False),np.bool)\n",
    "unfiltered_labels=np.full((len(unfiltered_imgs_path),2),(False,True),np.bool)\n",
    "y=np.concatenate([filtered_labels,unfiltered_labels])\n",
    "type(y)"
   ]
  },
  {
   "cell_type": "code",
   "execution_count": 30,
   "metadata": {},
   "outputs": [],
   "source": [
    "test_split=0.2"
   ]
  },
  {
   "cell_type": "code",
   "execution_count": 31,
   "metadata": {},
   "outputs": [],
   "source": [
    "#splitting data into test and train\n",
    "from sklearn.model_selection import train_test_split\n",
    "\n",
    "X_train,X_test,y_train,y_test=train_test_split(X,y,test_size=test_split, shuffle=True)\n"
   ]
  },
  {
   "cell_type": "code",
   "execution_count": null,
   "metadata": {},
   "outputs": [],
   "source": [
    "# from numpy import random\n",
    "# def generator(features, labels, batch_size):\n",
    "#  # Create empty arrays to contain batch of features and labels#\n",
    "#  batch_features = np.zeros((batch_size, 224,224, 3))\n",
    "#  batch_labels = np.zeros((batch_size,2))\n",
    "#  while True:\n",
    "#    for i in range(batch_size):\n",
    "#      # choose random index in features\n",
    "#      index= random.choice(len(features),1)\n",
    "#      batch_features[i] = (features[index])\n",
    "#      batch_labels[i] = labels[index]\n",
    "#    yield batch_features, batch_labels"
   ]
  },
  {
   "cell_type": "markdown",
   "metadata": {},
   "source": [
    "# VGG19 Model "
   ]
  },
  {
   "cell_type": "code",
   "execution_count": 83,
   "metadata": {},
   "outputs": [],
   "source": [
    "# Load the VGG19 model\n",
    "# https://keras.io/applications/#VGG19\n",
    "VGGmodel = VGG19(\n",
    "    include_top=False, \n",
    "    weights='imagenet')\n",
    "# model_original = VGG19(\n",
    "#     include_top=True, \n",
    "#     weights='imagenet')\n",
    "\n",
    "for layer in VGGmodel.layers:\n",
    "    layer.trainable = True\n",
    "\n",
    "# add a global spatial average pooling layer\n",
    "x = VGGmodel.output\n",
    "x = GlobalAveragePooling2D()(x)\n",
    "# let's add a fully-connected layer\n",
    "x = Dense(1024, activation='relu')(x)\n",
    "# and a logistic layer -- let's say we have 2 classes\n",
    "predictions = Dense(2, activation='softmax')(x)\n",
    "\n",
    "\n",
    "# num_classes=2\n",
    "# my_new_model = Sequential()\n",
    "# my_new_model.add(VGGmodel)\n",
    "# my_new_model.add(Flatten())\n",
    "# my_new_model.add(Dense(num_classes, activation='softmax'))\n",
    "\n",
    "# # Say not to train first layer (ResNet) model. It is already trained\n",
    "# my_new_model.layers[0].trainable = False\n",
    "\n",
    "# this is the model we will train\n",
    "model = Model(inputs=VGGmodel.input, outputs=predictions)\n",
    "\n",
    "# pp.pprint(my_new_model.layers)\n",
    "# pp.pprint(my_new_model.output)\n",
    "\n",
    "sgd=keras.optimizers.sgd(lr=0.1, decay=0.01)\n",
    "\n",
    "# #compile the model\n",
    "# for layer in model.layers:\n",
    "#     layer.trainable = False\n",
    "\n",
    "# compile the model (should be done *after* setting layers to non-trainable)\n",
    "model.compile(optimizer='sgd', loss='categorical_crossentropy',metrics=['accuracy'])"
   ]
  },
  {
   "cell_type": "markdown",
   "metadata": {},
   "source": [
    "# Inception V3 Model"
   ]
  },
  {
   "cell_type": "code",
   "execution_count": 108,
   "metadata": {},
   "outputs": [
    {
     "name": "stdout",
     "output_type": "stream",
     "text": [
      "Tensor(\"mixed10_6/concat:0\", shape=(?, ?, ?, 2048), dtype=float32)\n"
     ]
    }
   ],
   "source": [
    "from keras.applications.inception_v3 import (\n",
    "    InceptionV3, preprocess_input, decode_predictions)\n",
    "# Load the VGG19 model\n",
    "# https://keras.io/applications/#VGG19\n",
    "Inceptionmodel = InceptionV3(\n",
    "    include_top=False, \n",
    "    weights='imagenet')\n",
    "# model_original = VGG19(\n",
    "#     include_top=True, \n",
    "#     weights='imagenet')\n",
    "\n",
    "for layer in Inceptionmodel.layers:\n",
    "    layer.trainable = True\n",
    "print(Inceptionmodel.output)\n",
    "\n",
    "#Adding custom Layers \n",
    "x = Inceptionmodel.output\n",
    "x = GlobalAveragePooling2D()(x)\n",
    "# x = Flatten()(x)\n",
    "x = Dense(1024, activation=\"relu\")(x)\n",
    "# x = Dropout(0.5)(x)\n",
    "# x = Dense(1024, activation=\"relu\")(x)\n",
    "predictions = Dense(2, activation=\"softmax\")(x)\n",
    "\n",
    "\n",
    "# num_classes=2\n",
    "# my_new_model = Sequential()\n",
    "# my_new_model.add(VGGmodel)\n",
    "# my_new_model.add(Flatten())\n",
    "# my_new_model.add(Dense(num_classes, activation='softmax'))\n",
    "\n",
    "# # Say not to train first layer (ResNet) model. It is already trained\n",
    "# my_new_model.layers[0].trainable = False\n",
    "\n",
    "# this is the model we will train\n",
    "model = Model(inputs=Inceptionmodel.input, outputs=predictions)\n",
    "\n",
    "# pp.pprint(my_new_model.layers)\n",
    "# pp.pprint(my_new_model.output)\n",
    "\n",
    "sgd=keras.optimizers.sgd(lr=0.1, decay=0.01)\n",
    "\n",
    "# #compile the model\n",
    "# for layer in model.layers:\n",
    "#     layer.trainable = False\n",
    "\n",
    "# compile the model (should be done *after* setting layers to non-trainable)\n",
    "model.compile(optimizer='adam', loss='mean_squared_error',metrics=['accuracy'])"
   ]
  },
  {
   "cell_type": "code",
   "execution_count": 109,
   "metadata": {},
   "outputs": [],
   "source": [
    "# model.save_weights('model.h5')"
   ]
  },
  {
   "cell_type": "markdown",
   "metadata": {},
   "source": [
    "# train the model on the new data for a few epochs\n",
    "# model.fit_generator(\"\")\n",
    "model.fit(X_train,y_train,batch_size=10,epochs=1,shuffle=True)"
   ]
  },
  {
   "cell_type": "code",
   "execution_count": 110,
   "metadata": {},
   "outputs": [],
   "source": [
    "# from tensorflow.python.keras.applications.vgg import preprocess_input\n",
    "trainDatagen = image.ImageDataGenerator(\n",
    "    preprocessing_function=preprocess_input)\n",
    "\n",
    "testDatagen = image.ImageDataGenerator(\n",
    "    preprocessing_function=preprocess_input)\n",
    "\n",
    "\n",
    "trainDatagen.fit(X_train)\n",
    "testDatagen.fit(X_test)"
   ]
  },
  {
   "cell_type": "code",
   "execution_count": 111,
   "metadata": {},
   "outputs": [],
   "source": [
    "epochs=5\n",
    "batch_size=100\n",
    "\n",
    "steps_per_epoch=len(X_train)/batch_size\n",
    "validation_steps=len(X_test)/batch_size"
   ]
  },
  {
   "cell_type": "markdown",
   "metadata": {},
   "source": [
    "#Train the model\n",
    "my_new_model.fit_generator(generator(X_train, y_train, batch_size), steps_per_epoch=steps_per_epoch, epochs=epochs , validation_data=generator(X_test,y_test,batch_size), validation_steps=validation_steps)"
   ]
  },
  {
   "cell_type": "code",
   "execution_count": null,
   "metadata": {
    "scrolled": false
   },
   "outputs": [
    {
     "name": "stdout",
     "output_type": "stream",
     "text": [
      "Epoch 1/5\n",
      "80/80 [==============================] - 185s 2s/step - loss: 0.5054 - acc: 0.4922 - val_loss: 0.4690 - val_acc: 0.5310\n",
      "Epoch 2/5\n",
      "80/80 [==============================] - 156s 2s/step - loss: 0.5077 - acc: 0.4922 - val_loss: 0.4690 - val_acc: 0.5310\n",
      "Epoch 3/5\n",
      "80/80 [==============================] - 156s 2s/step - loss: 0.5077 - acc: 0.4922 - val_loss: 0.4690 - val_acc: 0.5310\n",
      "Epoch 4/5\n",
      "66/80 [=======================>......] - ETA: 25s - loss: 0.5098 - acc: 0.4902"
     ]
    }
   ],
   "source": [
    "#Train the model\n",
    "history= model.fit_generator(trainDatagen.flow(X_train, y_train, batch_size, shuffle=True), steps_per_epoch=steps_per_epoch, epochs=epochs , validation_data=testDatagen.flow(X_test,y_test,batch_size, shuffle=True), validation_steps=validation_steps)"
   ]
  },
  {
   "cell_type": "code",
   "execution_count": 75,
   "metadata": {},
   "outputs": [
    {
     "data": {
      "text/plain": [
       "<matplotlib.legend.Legend at 0x7f10d59fdcc0>"
      ]
     },
     "execution_count": 75,
     "metadata": {},
     "output_type": "execute_result"
    },
    {
     "data": {
      "image/png": "[encoded data removed]",
      "text/plain": [
       "<Figure size 432x288 with 1 Axes>"
      ]
     },
     "metadata": {},
     "output_type": "display_data"
    },
    {
     "data": {
      "image/png": "[encoded data removed]",
      "text/plain": [
       "<Figure size 432x288 with 1 Axes>"
      ]
     },
     "metadata": {},
     "output_type": "display_data"
    }
   ],
   "source": [
    "acc = history.history['acc']\n",
    "val_acc = history.history['val_acc']\n",
    "loss = history.history['loss']\n",
    "val_loss = history.history['val_loss']\n",
    "\n",
    "epochs = range(len(acc))\n",
    "\n",
    "plt.plot(epochs, acc, 'g', label='Training acc')\n",
    "plt.plot(epochs, val_acc, 'y', label='Validation acc')\n",
    "plt.title('Training and validation accuracy')\n",
    "plt.legend()\n",
    "\n",
    "plt.figure()\n",
    "\n",
    "plt.plot(epochs, loss, 'b', label='Training loss')\n",
    "plt.plot(epochs, val_loss, 'r', label='Validation loss')\n",
    "plt.title('Training and validation loss')\n",
    "plt.legend()\n",
    "\n",
    "# plt.show()"
   ]
  },
  {
   "cell_type": "code",
   "execution_count": null,
   "metadata": {},
   "outputs": [],
   "source": []
  },
  {
   "cell_type": "code",
   "execution_count": null,
   "metadata": {},
   "outputs": [],
   "source": []
  },
  {
   "cell_type": "code",
   "execution_count": null,
   "metadata": {},
   "outputs": [],
   "source": [
    "# model.load_weights('model.h5')"
   ]
  },
  {
   "cell_type": "code",
   "execution_count": null,
   "metadata": {},
   "outputs": [],
   "source": []
  },
  {
   "cell_type": "code",
   "execution_count": 42,
   "metadata": {},
   "outputs": [
    {
     "name": "stdout",
     "output_type": "stream",
     "text": [
      "<class 'numpy.ndarray'>\n",
      "[[5.3103686e-05 9.9994695e-01]]\n"
     ]
    }
   ],
   "source": [
    "def predict(img_path):\n",
    "    image_stored=image.load_img(img_path,target_size=image_size)\n",
    "    \n",
    "    # Preprocess image for model prediction\n",
    "# This step handles scaling and normalization for Xception\n",
    "    x = image.img_to_array(image_stored)\n",
    "    x = np.expand_dims(x, axis=0)\n",
    "    x = preprocess_input(x)\n",
    "    prediction = model.predict(x)\n",
    "    print(type(prediction))\n",
    "    print(prediction)\n",
    "#     decode_predictions(prediction, top=2)\n",
    "\n",
    "\n",
    "predict('/mnt/efs/filters_to_images/filtered_images/ILSVRC2012_val_00000111.JPEG')\n"
   ]
  },
  {
   "cell_type": "code",
   "execution_count": 43,
   "metadata": {},
   "outputs": [
    {
     "name": "stdout",
     "output_type": "stream",
     "text": [
      "<class 'numpy.ndarray'>\n",
      "[[3.0422874e-04 9.9969578e-01]]\n"
     ]
    }
   ],
   "source": [
    "predict('/mnt/efs/filters_to_images/unfiltered_images/ILSVRC2012_val_00000111.JPEG')\n"
   ]
  },
  {
   "cell_type": "code",
   "execution_count": 45,
   "metadata": {},
   "outputs": [
    {
     "ename": "OSError",
     "evalue": "cannot identify image file './testimages/filtered/img1.jpg'",
     "output_type": "error",
     "traceback": [
      "\u001b[0;31m---------------------------------------------------------------------------\u001b[0m",
      "\u001b[0;31mOSError\u001b[0m                                   Traceback (most recent call last)",
      "\u001b[0;32m<ipython-input-45-bfcaab7f8e64>\u001b[0m in \u001b[0;36m<module>\u001b[0;34m()\u001b[0m\n\u001b[0;32m----> 1\u001b[0;31m \u001b[0mpredict\u001b[0m\u001b[0;34m(\u001b[0m\u001b[0;34m'./testimages/filtered/img1.jpg'\u001b[0m\u001b[0;34m)\u001b[0m\u001b[0;34m\u001b[0m\u001b[0m\n\u001b[0m",
      "\u001b[0;32m<ipython-input-42-be4931bda313>\u001b[0m in \u001b[0;36mpredict\u001b[0;34m(img_path)\u001b[0m\n\u001b[1;32m      1\u001b[0m \u001b[0;32mdef\u001b[0m \u001b[0mpredict\u001b[0m\u001b[0;34m(\u001b[0m\u001b[0mimg_path\u001b[0m\u001b[0;34m)\u001b[0m\u001b[0;34m:\u001b[0m\u001b[0;34m\u001b[0m\u001b[0m\n\u001b[0;32m----> 2\u001b[0;31m     \u001b[0mimage_stored\u001b[0m\u001b[0;34m=\u001b[0m\u001b[0mimage\u001b[0m\u001b[0;34m.\u001b[0m\u001b[0mload_img\u001b[0m\u001b[0;34m(\u001b[0m\u001b[0mimg_path\u001b[0m\u001b[0;34m,\u001b[0m\u001b[0mtarget_size\u001b[0m\u001b[0;34m=\u001b[0m\u001b[0mimage_size\u001b[0m\u001b[0;34m)\u001b[0m\u001b[0;34m\u001b[0m\u001b[0m\n\u001b[0m\u001b[1;32m      3\u001b[0m \u001b[0;34m\u001b[0m\u001b[0m\n\u001b[1;32m      4\u001b[0m     \u001b[0;31m# Preprocess image for model prediction\u001b[0m\u001b[0;34m\u001b[0m\u001b[0;34m\u001b[0m\u001b[0m\n\u001b[1;32m      5\u001b[0m \u001b[0;31m# This step handles scaling and normalization for Xception\u001b[0m\u001b[0;34m\u001b[0m\u001b[0;34m\u001b[0m\u001b[0m\n",
      "\u001b[0;32m~/anaconda3/envs/tensorflow_p36/lib/python3.6/site-packages/keras_preprocessing/image.py\u001b[0m in \u001b[0;36mload_img\u001b[0;34m(path, grayscale, target_size, interpolation)\u001b[0m\n\u001b[1;32m    471\u001b[0m         raise ImportError('Could not import PIL.Image. '\n\u001b[1;32m    472\u001b[0m                           'The use of `array_to_img` requires PIL.')\n\u001b[0;32m--> 473\u001b[0;31m     \u001b[0mimg\u001b[0m \u001b[0;34m=\u001b[0m \u001b[0mpil_image\u001b[0m\u001b[0;34m.\u001b[0m\u001b[0mopen\u001b[0m\u001b[0;34m(\u001b[0m\u001b[0mpath\u001b[0m\u001b[0;34m)\u001b[0m\u001b[0;34m\u001b[0m\u001b[0m\n\u001b[0m\u001b[1;32m    474\u001b[0m     \u001b[0;32mif\u001b[0m \u001b[0mgrayscale\u001b[0m\u001b[0;34m:\u001b[0m\u001b[0;34m\u001b[0m\u001b[0m\n\u001b[1;32m    475\u001b[0m         \u001b[0;32mif\u001b[0m \u001b[0mimg\u001b[0m\u001b[0;34m.\u001b[0m\u001b[0mmode\u001b[0m \u001b[0;34m!=\u001b[0m \u001b[0;34m'L'\u001b[0m\u001b[0;34m:\u001b[0m\u001b[0;34m\u001b[0m\u001b[0m\n",
      "\u001b[0;32m~/anaconda3/envs/tensorflow_p36/lib/python3.6/site-packages/PIL/Image.py\u001b[0m in \u001b[0;36mopen\u001b[0;34m(fp, mode)\u001b[0m\n\u001b[1;32m   2588\u001b[0m         \u001b[0mfp\u001b[0m\u001b[0;34m.\u001b[0m\u001b[0mclose\u001b[0m\u001b[0;34m(\u001b[0m\u001b[0;34m)\u001b[0m\u001b[0;34m\u001b[0m\u001b[0m\n\u001b[1;32m   2589\u001b[0m     raise IOError(\"cannot identify image file %r\"\n\u001b[0;32m-> 2590\u001b[0;31m                   % (filename if filename else fp))\n\u001b[0m\u001b[1;32m   2591\u001b[0m \u001b[0;34m\u001b[0m\u001b[0m\n\u001b[1;32m   2592\u001b[0m \u001b[0;31m#\u001b[0m\u001b[0;34m\u001b[0m\u001b[0;34m\u001b[0m\u001b[0m\n",
      "\u001b[0;31mOSError\u001b[0m: cannot identify image file './testimages/filtered/img1.jpg'"
     ]
    }
   ],
   "source": [
    "predict('./testimages/filtered/img1.jpg')"
   ]
  },
  {
   "cell_type": "code",
   "execution_count": null,
   "metadata": {},
   "outputs": [],
   "source": [
    "# at this point, the top layers are well trained and we can start fine-tuning\n",
    "# convolutional layers from inception V3. We will freeze the bottom N layers\n",
    "# and train the remaining top layers.\n",
    "\n",
    "# let's visualize layer names and layer indices to see how many layers\n",
    "# we should freeze:\n",
    "for i, layer in enumerate(base_model.layers):\n",
    "   print(i, layer.name)\n",
    "\n",
    "# we chose to train the top 2 inception blocks, i.e. we will freeze\n",
    "# the first 249 layers and unfreeze the rest:\n",
    "for layer in model.layers[:249]:\n",
    "   layer.trainable = False\n",
    "for layer in model.layers[249:]:\n",
    "   layer.trainable = True\n",
    "\n",
    "# we need to recompile the model for these modifications to take effect\n",
    "# we use SGD with a low learning rate\n",
    "from keras.optimizers import SGD\n",
    "model.compile(optimizer=SGD(lr=0.0001, momentum=0.9), loss='categorical_crossentropy')\n",
    "\n",
    "# we train our model again (this time fine-tuning the top 2 inception blocks\n",
    "# alongside the top Dense layers\n",
    "model.fit_generator(...)"
   ]
  },
  {
   "cell_type": "code",
   "execution_count": null,
   "metadata": {},
   "outputs": [],
   "source": []
  },
  {
   "cell_type": "code",
   "execution_count": null,
   "metadata": {},
   "outputs": [],
   "source": []
  },
  {
   "cell_type": "code",
   "execution_count": null,
   "metadata": {},
   "outputs": [],
   "source": []
  }
 ],
 "metadata": {
  "kernelspec": {
   "display_name": "Environment (conda_tensorflow_p36)",
   "language": "python",
   "name": "conda_tensorflow_p36"
  },
  "language_info": {
   "codemirror_mode": {
    "name": "ipython",
    "version": 3
   },
   "file_extension": ".py",
   "mimetype": "text/x-python",
   "name": "python",
   "nbconvert_exporter": "python",
   "pygments_lexer": "ipython3",
   "version": "3.6.6"
  }
 },
 "nbformat": 4,
 "nbformat_minor": 2
}
