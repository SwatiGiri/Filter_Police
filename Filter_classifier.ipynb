{
 "cells": [
  {
   "cell_type": "code",
   "execution_count": 111,
   "metadata": {},
   "outputs": [],
   "source": [
    "# import dependencies\n",
    "import matplotlib.pyplot as plt\n",
    "%matplotlib inline\n",
    "import pprint as pp\n",
    "\n",
    "import os\n",
    "import glob\n",
    "import numpy as np\n",
    "import tensorflow as tf\n",
    "\n",
    "import keras\n",
    "from keras.layers import (Flatten,Dropout,Dense)\n",
    "from keras.models import Sequential, Model\n",
    "from sklearn.preprocessing import normalize\n",
    "from sklearn.model_selection import train_test_split\n",
    "\n",
    "\n",
    "import matplotlib.pyplot as plt\n",
    "import matplotlib.image as mpimg\n",
    "from PIL import Image\n",
    "import numpy as np\n"
   ]
  },
  {
   "cell_type": "code",
   "execution_count": 112,
   "metadata": {},
   "outputs": [
    {
     "name": "stdout",
     "output_type": "stream",
     "text": [
      "[name: \"/device:CPU:0\"\n",
      "device_type: \"CPU\"\n",
      "memory_limit: 268435456\n",
      "locality {\n",
      "}\n",
      "incarnation: 4035397293525778052\n",
      ", name: \"/device:GPU:0\"\n",
      "device_type: \"GPU\"\n",
      "memory_limit: 11286285517\n",
      "locality {\n",
      "  bus_id: 1\n",
      "  links {\n",
      "  }\n",
      "}\n",
      "incarnation: 1706585838172810432\n",
      "physical_device_desc: \"device: 0, name: Tesla K80, pci bus id: 0000:00:1e.0, compute capability: 3.7\"\n",
      "]\n"
     ]
    }
   ],
   "source": [
    "\n",
    "from tensorflow.python.client import device_lib\n",
    "print(device_lib.list_local_devices())"
   ]
  },
  {
   "cell_type": "code",
   "execution_count": 113,
   "metadata": {},
   "outputs": [],
   "source": [
    "def img_to_hist(img_path, channels='rgb'):\n",
    "    # load image\n",
    "    img = Image.open(img_path) \n",
    "    img.resize(size=(512,512))\n",
    "    img = np.array(img)\n",
    "    \n",
    "    # channels\n",
    "    red_channel = img[:,:,0]\n",
    "    blue_channel = img[:,:,1]\n",
    "    green_channel = img[:,:,2]\n",
    "    # hists\n",
    "\n",
    "    hist = np.histogram(red_channel, bins=256)[0]\n",
    "    hist = np.concatenate([hist, np.histogram(blue_channel, bins=256)[0]])\n",
    "    hist = np.concatenate([hist, np.histogram(green_channel, bins=256)[0]])\n",
    "    \n",
    "    return hist"
   ]
  },
  {
   "cell_type": "code",
   "execution_count": 114,
   "metadata": {},
   "outputs": [],
   "source": [
    "# load image data\n",
    "image_limit=2000\n",
    "filtered_images_path= glob.glob('/mnt/efs/filters_to_images/nash_images/*')[:image_limit]\n",
    "unfiltered_imgs_path=glob.glob('/mnt/efs/filters_to_images/unfiltered_images/*')[:image_limit]"
   ]
  },
  {
   "cell_type": "code",
   "execution_count": 115,
   "metadata": {},
   "outputs": [
    {
     "name": "stdout",
     "output_type": "stream",
     "text": [
      "/mnt/efs/filters_to_images/nash_images/test\n",
      "/mnt/efs/filters_to_images/unfiltered_images/ILSVRC2012_val_00038978.JPEG\n",
      "/mnt/efs/filters_to_images/unfiltered_images/ILSVRC2012_val_00043930.JPEG\n",
      "/mnt/efs/filters_to_images/unfiltered_images/ILSVRC2012_val_00028144.JPEG\n",
      "/mnt/efs/filters_to_images/unfiltered_images/ILSVRC2012_val_00016723.JPEG\n",
      "/mnt/efs/filters_to_images/unfiltered_images/ILSVRC2012_val_00008380.JPEG\n",
      "/mnt/efs/filters_to_images/unfiltered_images/ILSVRC2012_val_00039511.JPEG\n",
      "/mnt/efs/filters_to_images/unfiltered_images/ILSVRC2012_val_00044920.JPEG\n",
      "/mnt/efs/filters_to_images/unfiltered_images/ILSVRC2013_val_00000756.JPEG\n",
      "/mnt/efs/filters_to_images/unfiltered_images/ILSVRC2012_val_00012745.JPEG\n",
      "/mnt/efs/filters_to_images/unfiltered_images/ILSVRC2012_val_00018091.JPEG\n",
      "/mnt/efs/filters_to_images/unfiltered_images/ILSVRC2012_val_00032275.JPEG\n",
      "/mnt/efs/filters_to_images/unfiltered_images/ILSVRC2012_val_00014293.JPEG\n",
      "/mnt/efs/filters_to_images/unfiltered_images/ILSVRC2012_val_00040070.JPEG\n",
      "/mnt/efs/filters_to_images/unfiltered_images/ILSVRC2012_val_00043659.JPEG\n",
      "/mnt/efs/filters_to_images/unfiltered_images/ILSVRC2012_val_00019674.JPEG\n",
      "/mnt/efs/filters_to_images/unfiltered_images/ILSVRC2012_val_00036909.JPEG\n",
      "/mnt/efs/filters_to_images/unfiltered_images/ILSVRC2012_val_00019854.JPEG\n",
      "/mnt/efs/filters_to_images/unfiltered_images/ILSVRC2012_val_00001028.JPEG\n",
      "/mnt/efs/filters_to_images/unfiltered_images/ILSVRC2012_val_00026298.JPEG\n",
      "/mnt/efs/filters_to_images/unfiltered_images/ILSVRC2012_val_00028953.JPEG\n"
     ]
    }
   ],
   "source": [
    "hist_list=[]\n",
    "for image_path in (filtered_images_path+unfiltered_imgs_path):\n",
    "    try:\n",
    "        hist_list.append(img_to_hist(image_path))\n",
    "    except:\n",
    "        print(image_path)\n",
    "X=np.array(hist_list)\n",
    "\n",
    "X=normalize(X)"
   ]
  },
  {
   "cell_type": "code",
   "execution_count": 116,
   "metadata": {},
   "outputs": [
    {
     "data": {
      "text/plain": [
       "(3979, 768)"
      ]
     },
     "execution_count": 116,
     "metadata": {},
     "output_type": "execute_result"
    }
   ],
   "source": [
    "X.shape"
   ]
  },
  {
   "cell_type": "code",
   "execution_count": 122,
   "metadata": {},
   "outputs": [
    {
     "data": {
      "text/plain": [
       "numpy.ndarray"
      ]
     },
     "execution_count": 122,
     "metadata": {},
     "output_type": "execute_result"
    }
   ],
   "source": [
    "filtered_labels=np.full((len(filtered_images_path),2),(1,0),np.bool)\n",
    "unfiltered_labels=np.full((len(unfiltered_imgs_path),2),(0,1),np.bool)[0:X.shape[0]-image_limit]\n",
    "y=np.concatenate([filtered_labels,unfiltered_labels])\n",
    "type(y)"
   ]
  },
  {
   "cell_type": "code",
   "execution_count": 123,
   "metadata": {},
   "outputs": [
    {
     "data": {
      "text/plain": [
       "(3979, 2)"
      ]
     },
     "execution_count": 123,
     "metadata": {},
     "output_type": "execute_result"
    }
   ],
   "source": [
    "y.shape"
   ]
  },
  {
   "cell_type": "code",
   "execution_count": 124,
   "metadata": {},
   "outputs": [],
   "source": [
    "test_split=0.2\n",
    "X_train,X_val,y_train,y_val=train_test_split(X,y,test_size=test_split, shuffle=True )\n"
   ]
  },
  {
   "cell_type": "code",
   "execution_count": 150,
   "metadata": {},
   "outputs": [],
   "source": [
    "model = Sequential()\n",
    "model.add(Dense((3*256), activation='relu'))\n",
    "model.add(Dense((4*256), activation='relu'))\n",
    "model.add(Dense((3*256), activation='relu'))\n",
    "model.add(Dense(2, activation='softmax'))"
   ]
  },
  {
   "cell_type": "code",
   "execution_count": 151,
   "metadata": {},
   "outputs": [],
   "source": [
    "model.compile(loss='binary_crossentropy', optimizer=keras.optimizers.SGD(lr=0.0001, momentum=0.4), metrics=['accuracy'])"
   ]
  },
  {
   "cell_type": "code",
   "execution_count": 152,
   "metadata": {
    "scrolled": false
   },
   "outputs": [
    {
     "name": "stdout",
     "output_type": "stream",
     "text": [
      "Train on 3183 samples, validate on 796 samples\n",
      "Epoch 1/150\n",
      "3183/3183 [==============================] - 2s 767us/step - loss: 0.6917 - acc: 0.5598 - val_loss: 0.6908 - val_acc: 0.5930\n",
      "Epoch 2/150\n",
      "3183/3183 [==============================] - 2s 544us/step - loss: 0.6907 - acc: 0.5910 - val_loss: 0.6898 - val_acc: 0.6332\n",
      "Epoch 3/150\n",
      "3183/3183 [==============================] - 2s 558us/step - loss: 0.6897 - acc: 0.6456 - val_loss: 0.6887 - val_acc: 0.6922\n",
      "Epoch 4/150\n",
      "3183/3183 [==============================] - 2s 572us/step - loss: 0.6886 - acc: 0.7006 - val_loss: 0.6877 - val_acc: 0.7261\n",
      "Epoch 5/150\n",
      "3183/3183 [==============================] - 2s 543us/step - loss: 0.6876 - acc: 0.7232 - val_loss: 0.6866 - val_acc: 0.7626\n",
      "Epoch 6/150\n",
      "3183/3183 [==============================] - 2s 544us/step - loss: 0.6866 - acc: 0.7590 - val_loss: 0.6856 - val_acc: 0.7864\n",
      "Epoch 7/150\n",
      "3183/3183 [==============================] - 2s 542us/step - loss: 0.6857 - acc: 0.7848 - val_loss: 0.6846 - val_acc: 0.8116\n",
      "Epoch 8/150\n",
      "3183/3183 [==============================] - 2s 545us/step - loss: 0.6847 - acc: 0.8021 - val_loss: 0.6837 - val_acc: 0.8291\n",
      "Epoch 9/150\n",
      "3183/3183 [==============================] - 2s 541us/step - loss: 0.6838 - acc: 0.8178 - val_loss: 0.6827 - val_acc: 0.8505\n",
      "Epoch 10/150\n",
      "3183/3183 [==============================] - 2s 544us/step - loss: 0.6828 - acc: 0.8288 - val_loss: 0.6818 - val_acc: 0.8568\n",
      "Epoch 11/150\n",
      "3183/3183 [==============================] - 2s 542us/step - loss: 0.6819 - acc: 0.8398 - val_loss: 0.6808 - val_acc: 0.8693\n",
      "Epoch 12/150\n",
      "3183/3183 [==============================] - 2s 543us/step - loss: 0.6810 - acc: 0.8467 - val_loss: 0.6799 - val_acc: 0.8719\n",
      "Epoch 13/150\n",
      "3183/3183 [==============================] - 2s 542us/step - loss: 0.6801 - acc: 0.8523 - val_loss: 0.6790 - val_acc: 0.8731\n",
      "Epoch 14/150\n",
      "3183/3183 [==============================] - 2s 544us/step - loss: 0.6792 - acc: 0.8586 - val_loss: 0.6780 - val_acc: 0.8807\n",
      "Epoch 15/150\n",
      "3183/3183 [==============================] - 2s 544us/step - loss: 0.6782 - acc: 0.8668 - val_loss: 0.6770 - val_acc: 0.8781\n",
      "Epoch 16/150\n",
      "3183/3183 [==============================] - 2s 545us/step - loss: 0.6773 - acc: 0.8709 - val_loss: 0.6761 - val_acc: 0.8844\n",
      "Epoch 17/150\n",
      "3183/3183 [==============================] - 2s 544us/step - loss: 0.6764 - acc: 0.8753 - val_loss: 0.6751 - val_acc: 0.8920\n",
      "Epoch 18/150\n",
      "3183/3183 [==============================] - 2s 544us/step - loss: 0.6754 - acc: 0.8775 - val_loss: 0.6741 - val_acc: 0.8920\n",
      "Epoch 19/150\n",
      "3183/3183 [==============================] - 2s 541us/step - loss: 0.6744 - acc: 0.8797 - val_loss: 0.6731 - val_acc: 0.8945\n",
      "Epoch 20/150\n",
      "3183/3183 [==============================] - 2s 543us/step - loss: 0.6735 - acc: 0.8841 - val_loss: 0.6721 - val_acc: 0.8945\n",
      "Epoch 21/150\n",
      "3183/3183 [==============================] - 2s 543us/step - loss: 0.6725 - acc: 0.8838 - val_loss: 0.6711 - val_acc: 0.8957\n",
      "Epoch 22/150\n",
      "3183/3183 [==============================] - 2s 543us/step - loss: 0.6715 - acc: 0.8869 - val_loss: 0.6701 - val_acc: 0.8957\n",
      "Epoch 23/150\n",
      "3183/3183 [==============================] - 2s 543us/step - loss: 0.6704 - acc: 0.8891 - val_loss: 0.6691 - val_acc: 0.8970\n",
      "Epoch 24/150\n",
      "3183/3183 [==============================] - 2s 540us/step - loss: 0.6694 - acc: 0.8916 - val_loss: 0.6680 - val_acc: 0.8970\n",
      "Epoch 25/150\n",
      "3183/3183 [==============================] - 2s 542us/step - loss: 0.6684 - acc: 0.8929 - val_loss: 0.6669 - val_acc: 0.8957\n",
      "Epoch 26/150\n",
      "3183/3183 [==============================] - 2s 542us/step - loss: 0.6673 - acc: 0.8922 - val_loss: 0.6658 - val_acc: 0.8970\n",
      "Epoch 27/150\n",
      "3183/3183 [==============================] - 2s 541us/step - loss: 0.6662 - acc: 0.8935 - val_loss: 0.6647 - val_acc: 0.8982\n",
      "Epoch 28/150\n",
      "3183/3183 [==============================] - 2s 542us/step - loss: 0.6651 - acc: 0.8963 - val_loss: 0.6636 - val_acc: 0.9033\n",
      "Epoch 29/150\n",
      "3183/3183 [==============================] - 2s 542us/step - loss: 0.6640 - acc: 0.8954 - val_loss: 0.6624 - val_acc: 0.9045\n",
      "Epoch 30/150\n",
      "3183/3183 [==============================] - 2s 543us/step - loss: 0.6629 - acc: 0.8960 - val_loss: 0.6612 - val_acc: 0.9045\n",
      "Epoch 31/150\n",
      "3183/3183 [==============================] - 2s 541us/step - loss: 0.6617 - acc: 0.8970 - val_loss: 0.6600 - val_acc: 0.9058\n",
      "Epoch 32/150\n",
      "3183/3183 [==============================] - 2s 541us/step - loss: 0.6606 - acc: 0.8995 - val_loss: 0.6588 - val_acc: 0.9045\n",
      "Epoch 33/150\n",
      "3183/3183 [==============================] - 2s 543us/step - loss: 0.6594 - acc: 0.9001 - val_loss: 0.6576 - val_acc: 0.9033\n",
      "Epoch 34/150\n",
      "3183/3183 [==============================] - 2s 544us/step - loss: 0.6582 - acc: 0.8988 - val_loss: 0.6563 - val_acc: 0.9020\n",
      "Epoch 35/150\n",
      "3183/3183 [==============================] - 2s 542us/step - loss: 0.6569 - acc: 0.9007 - val_loss: 0.6551 - val_acc: 0.9020\n",
      "Epoch 36/150\n",
      "3183/3183 [==============================] - 2s 544us/step - loss: 0.6557 - acc: 0.9010 - val_loss: 0.6538 - val_acc: 0.9008\n",
      "Epoch 37/150\n",
      "3183/3183 [==============================] - 2s 542us/step - loss: 0.6544 - acc: 0.9020 - val_loss: 0.6524 - val_acc: 0.9033\n",
      "Epoch 38/150\n",
      "3183/3183 [==============================] - 2s 541us/step - loss: 0.6531 - acc: 0.9029 - val_loss: 0.6511 - val_acc: 0.9020\n",
      "Epoch 39/150\n",
      "3183/3183 [==============================] - 2s 541us/step - loss: 0.6517 - acc: 0.9017 - val_loss: 0.6497 - val_acc: 0.9008\n",
      "Epoch 40/150\n",
      "3183/3183 [==============================] - 2s 542us/step - loss: 0.6504 - acc: 0.9029 - val_loss: 0.6483 - val_acc: 0.9020\n",
      "Epoch 41/150\n",
      "3183/3183 [==============================] - 2s 542us/step - loss: 0.6490 - acc: 0.9032 - val_loss: 0.6469 - val_acc: 0.9033\n",
      "Epoch 42/150\n",
      "3183/3183 [==============================] - 2s 541us/step - loss: 0.6476 - acc: 0.9032 - val_loss: 0.6454 - val_acc: 0.9020\n",
      "Epoch 43/150\n",
      "3183/3183 [==============================] - 2s 543us/step - loss: 0.6462 - acc: 0.9039 - val_loss: 0.6439 - val_acc: 0.9020\n",
      "Epoch 44/150\n",
      "3183/3183 [==============================] - 2s 541us/step - loss: 0.6447 - acc: 0.9042 - val_loss: 0.6424 - val_acc: 0.9008\n",
      "Epoch 45/150\n",
      "3183/3183 [==============================] - 2s 541us/step - loss: 0.6432 - acc: 0.9061 - val_loss: 0.6409 - val_acc: 0.9008\n",
      "Epoch 46/150\n",
      "3183/3183 [==============================] - 2s 542us/step - loss: 0.6417 - acc: 0.9064 - val_loss: 0.6393 - val_acc: 0.9008\n",
      "Epoch 47/150\n",
      "3183/3183 [==============================] - 2s 541us/step - loss: 0.6402 - acc: 0.9045 - val_loss: 0.6377 - val_acc: 0.9008\n",
      "Epoch 48/150\n",
      "3183/3183 [==============================] - 2s 543us/step - loss: 0.6386 - acc: 0.9073 - val_loss: 0.6360 - val_acc: 0.9020\n",
      "Epoch 49/150\n",
      "3183/3183 [==============================] - 2s 545us/step - loss: 0.6370 - acc: 0.9067 - val_loss: 0.6344 - val_acc: 0.9020\n",
      "Epoch 50/150\n",
      "3183/3183 [==============================] - 2s 541us/step - loss: 0.6353 - acc: 0.9061 - val_loss: 0.6326 - val_acc: 0.9020\n",
      "Epoch 51/150\n",
      "3183/3183 [==============================] - 2s 542us/step - loss: 0.6336 - acc: 0.9067 - val_loss: 0.6309 - val_acc: 0.9020\n",
      "Epoch 52/150\n",
      "3183/3183 [==============================] - 2s 541us/step - loss: 0.6319 - acc: 0.9083 - val_loss: 0.6291 - val_acc: 0.9020\n",
      "Epoch 53/150\n",
      "3183/3183 [==============================] - 2s 546us/step - loss: 0.6301 - acc: 0.9076 - val_loss: 0.6272 - val_acc: 0.9020\n",
      "Epoch 54/150\n",
      "3183/3183 [==============================] - 2s 543us/step - loss: 0.6282 - acc: 0.9070 - val_loss: 0.6253 - val_acc: 0.9020\n",
      "Epoch 55/150\n",
      "3183/3183 [==============================] - 2s 543us/step - loss: 0.6264 - acc: 0.9076 - val_loss: 0.6234 - val_acc: 0.9033\n",
      "Epoch 56/150\n",
      "3183/3183 [==============================] - 2s 540us/step - loss: 0.6245 - acc: 0.9089 - val_loss: 0.6214 - val_acc: 0.9033\n",
      "Epoch 57/150\n",
      "3183/3183 [==============================] - 2s 542us/step - loss: 0.6225 - acc: 0.9083 - val_loss: 0.6194 - val_acc: 0.9033\n",
      "Epoch 58/150\n",
      "3183/3183 [==============================] - 2s 542us/step - loss: 0.6205 - acc: 0.9076 - val_loss: 0.6173 - val_acc: 0.9033\n",
      "Epoch 59/150\n",
      "3183/3183 [==============================] - 2s 542us/step - loss: 0.6184 - acc: 0.9089 - val_loss: 0.6151 - val_acc: 0.9033\n",
      "Epoch 60/150\n"
     ]
    },
    {
     "name": "stdout",
     "output_type": "stream",
     "text": [
      "3183/3183 [==============================] - 2s 541us/step - loss: 0.6163 - acc: 0.9092 - val_loss: 0.6130 - val_acc: 0.9058\n",
      "Epoch 61/150\n",
      "3183/3183 [==============================] - 2s 543us/step - loss: 0.6142 - acc: 0.9092 - val_loss: 0.6107 - val_acc: 0.9058\n",
      "Epoch 62/150\n",
      "3183/3183 [==============================] - 2s 541us/step - loss: 0.6120 - acc: 0.9092 - val_loss: 0.6084 - val_acc: 0.9058\n",
      "Epoch 63/150\n",
      "3183/3183 [==============================] - 2s 543us/step - loss: 0.6097 - acc: 0.9098 - val_loss: 0.6061 - val_acc: 0.9045\n",
      "Epoch 64/150\n",
      "3183/3183 [==============================] - 2s 543us/step - loss: 0.6074 - acc: 0.9095 - val_loss: 0.6036 - val_acc: 0.9045\n",
      "Epoch 65/150\n",
      "3183/3183 [==============================] - 2s 542us/step - loss: 0.6050 - acc: 0.9111 - val_loss: 0.6012 - val_acc: 0.9070\n",
      "Epoch 66/150\n",
      "3183/3183 [==============================] - 2s 542us/step - loss: 0.6025 - acc: 0.9105 - val_loss: 0.5986 - val_acc: 0.9070\n",
      "Epoch 67/150\n",
      "3183/3183 [==============================] - 2s 542us/step - loss: 0.6000 - acc: 0.9108 - val_loss: 0.5960 - val_acc: 0.9070\n",
      "Epoch 68/150\n",
      "3183/3183 [==============================] - 2s 542us/step - loss: 0.5975 - acc: 0.9120 - val_loss: 0.5934 - val_acc: 0.9070\n",
      "Epoch 69/150\n",
      "3183/3183 [==============================] - 2s 542us/step - loss: 0.5948 - acc: 0.9105 - val_loss: 0.5907 - val_acc: 0.9070\n",
      "Epoch 70/150\n",
      "3183/3183 [==============================] - 2s 542us/step - loss: 0.5921 - acc: 0.9101 - val_loss: 0.5879 - val_acc: 0.9083\n",
      "Epoch 71/150\n",
      "3183/3183 [==============================] - 2s 544us/step - loss: 0.5894 - acc: 0.9108 - val_loss: 0.5850 - val_acc: 0.9083\n",
      "Epoch 72/150\n",
      "3183/3183 [==============================] - 2s 540us/step - loss: 0.5866 - acc: 0.9111 - val_loss: 0.5821 - val_acc: 0.9095\n",
      "Epoch 73/150\n",
      "3183/3183 [==============================] - 2s 542us/step - loss: 0.5837 - acc: 0.9117 - val_loss: 0.5791 - val_acc: 0.9095\n",
      "Epoch 74/150\n",
      "3183/3183 [==============================] - 2s 541us/step - loss: 0.5807 - acc: 0.9123 - val_loss: 0.5760 - val_acc: 0.9108\n",
      "Epoch 75/150\n",
      "3183/3183 [==============================] - 2s 544us/step - loss: 0.5777 - acc: 0.9117 - val_loss: 0.5729 - val_acc: 0.9108\n",
      "Epoch 76/150\n",
      "3183/3183 [==============================] - 2s 541us/step - loss: 0.5746 - acc: 0.9120 - val_loss: 0.5696 - val_acc: 0.9108\n",
      "Epoch 77/150\n",
      "3183/3183 [==============================] - 2s 542us/step - loss: 0.5714 - acc: 0.9123 - val_loss: 0.5664 - val_acc: 0.9108\n",
      "Epoch 78/150\n",
      "3183/3183 [==============================] - 2s 542us/step - loss: 0.5682 - acc: 0.9133 - val_loss: 0.5630 - val_acc: 0.9108\n",
      "Epoch 79/150\n",
      "3183/3183 [==============================] - 2s 542us/step - loss: 0.5648 - acc: 0.9127 - val_loss: 0.5595 - val_acc: 0.9121\n",
      "Epoch 80/150\n",
      "3183/3183 [==============================] - 2s 540us/step - loss: 0.5614 - acc: 0.9136 - val_loss: 0.5560 - val_acc: 0.9121\n",
      "Epoch 81/150\n",
      "3183/3183 [==============================] - 2s 540us/step - loss: 0.5580 - acc: 0.9133 - val_loss: 0.5524 - val_acc: 0.9133\n",
      "Epoch 82/150\n",
      "3183/3183 [==============================] - 2s 542us/step - loss: 0.5544 - acc: 0.9127 - val_loss: 0.5488 - val_acc: 0.9133\n",
      "Epoch 83/150\n",
      "3183/3183 [==============================] - 2s 541us/step - loss: 0.5508 - acc: 0.9133 - val_loss: 0.5451 - val_acc: 0.9133\n",
      "Epoch 84/150\n",
      "3183/3183 [==============================] - 2s 541us/step - loss: 0.5472 - acc: 0.9133 - val_loss: 0.5412 - val_acc: 0.9133\n",
      "Epoch 85/150\n",
      "3183/3183 [==============================] - 2s 542us/step - loss: 0.5434 - acc: 0.9130 - val_loss: 0.5374 - val_acc: 0.9133\n",
      "Epoch 86/150\n",
      "3183/3183 [==============================] - 2s 541us/step - loss: 0.5396 - acc: 0.9130 - val_loss: 0.5334 - val_acc: 0.9133\n",
      "Epoch 87/150\n",
      "3183/3183 [==============================] - 2s 541us/step - loss: 0.5357 - acc: 0.9133 - val_loss: 0.5294 - val_acc: 0.9146\n",
      "Epoch 88/150\n",
      "3183/3183 [==============================] - 2s 542us/step - loss: 0.5317 - acc: 0.9127 - val_loss: 0.5252 - val_acc: 0.9146\n",
      "Epoch 89/150\n",
      "3183/3183 [==============================] - 2s 542us/step - loss: 0.5277 - acc: 0.9142 - val_loss: 0.5210 - val_acc: 0.9133\n",
      "Epoch 90/150\n",
      "3183/3183 [==============================] - 2s 541us/step - loss: 0.5235 - acc: 0.9149 - val_loss: 0.5168 - val_acc: 0.9133\n",
      "Epoch 91/150\n",
      "3183/3183 [==============================] - 2s 540us/step - loss: 0.5193 - acc: 0.9145 - val_loss: 0.5124 - val_acc: 0.9133\n",
      "Epoch 92/150\n",
      "3183/3183 [==============================] - 2s 542us/step - loss: 0.5150 - acc: 0.9142 - val_loss: 0.5080 - val_acc: 0.9133\n",
      "Epoch 93/150\n",
      "3183/3183 [==============================] - 2s 544us/step - loss: 0.5107 - acc: 0.9158 - val_loss: 0.5035 - val_acc: 0.9133\n",
      "Epoch 94/150\n",
      "3183/3183 [==============================] - 2s 540us/step - loss: 0.5063 - acc: 0.9149 - val_loss: 0.4989 - val_acc: 0.9133\n",
      "Epoch 95/150\n",
      "3183/3183 [==============================] - 2s 541us/step - loss: 0.5018 - acc: 0.9161 - val_loss: 0.4943 - val_acc: 0.9133\n",
      "Epoch 96/150\n",
      "3183/3183 [==============================] - 2s 541us/step - loss: 0.4972 - acc: 0.9152 - val_loss: 0.4896 - val_acc: 0.9133\n",
      "Epoch 97/150\n",
      "3183/3183 [==============================] - 2s 543us/step - loss: 0.4926 - acc: 0.9155 - val_loss: 0.4848 - val_acc: 0.9146\n",
      "Epoch 98/150\n",
      "3183/3183 [==============================] - 2s 539us/step - loss: 0.4879 - acc: 0.9167 - val_loss: 0.4800 - val_acc: 0.9146\n",
      "Epoch 99/150\n",
      "3183/3183 [==============================] - 2s 540us/step - loss: 0.4832 - acc: 0.9171 - val_loss: 0.4751 - val_acc: 0.9171\n",
      "Epoch 100/150\n",
      "3183/3183 [==============================] - 2s 541us/step - loss: 0.4784 - acc: 0.9167 - val_loss: 0.4702 - val_acc: 0.9171\n",
      "Epoch 101/150\n",
      "3183/3183 [==============================] - 2s 542us/step - loss: 0.4735 - acc: 0.9174 - val_loss: 0.4652 - val_acc: 0.9171\n",
      "Epoch 102/150\n",
      "3183/3183 [==============================] - 2s 541us/step - loss: 0.4686 - acc: 0.9174 - val_loss: 0.4601 - val_acc: 0.9171\n",
      "Epoch 103/150\n",
      "3183/3183 [==============================] - 2s 540us/step - loss: 0.4636 - acc: 0.9180 - val_loss: 0.4550 - val_acc: 0.9171\n",
      "Epoch 104/150\n",
      "3183/3183 [==============================] - 2s 541us/step - loss: 0.4587 - acc: 0.9177 - val_loss: 0.4499 - val_acc: 0.9171\n",
      "Epoch 105/150\n",
      "3183/3183 [==============================] - 2s 544us/step - loss: 0.4536 - acc: 0.9193 - val_loss: 0.4447 - val_acc: 0.9171\n",
      "Epoch 106/150\n",
      "3183/3183 [==============================] - 2s 541us/step - loss: 0.4485 - acc: 0.9186 - val_loss: 0.4395 - val_acc: 0.9183\n",
      "Epoch 107/150\n",
      "3183/3183 [==============================] - 2s 548us/step - loss: 0.4435 - acc: 0.9193 - val_loss: 0.4343 - val_acc: 0.9196\n",
      "Epoch 108/150\n",
      "3183/3183 [==============================] - 2s 572us/step - loss: 0.4384 - acc: 0.9193 - val_loss: 0.4290 - val_acc: 0.9196\n",
      "Epoch 109/150\n",
      "3183/3183 [==============================] - 2s 542us/step - loss: 0.4332 - acc: 0.9186 - val_loss: 0.4238 - val_acc: 0.9196\n",
      "Epoch 110/150\n",
      "3183/3183 [==============================] - 2s 541us/step - loss: 0.4281 - acc: 0.9205 - val_loss: 0.4185 - val_acc: 0.9209\n",
      "Epoch 111/150\n",
      "3183/3183 [==============================] - 2s 540us/step - loss: 0.4229 - acc: 0.9208 - val_loss: 0.4132 - val_acc: 0.9221\n",
      "Epoch 112/150\n",
      "3183/3183 [==============================] - 2s 543us/step - loss: 0.4177 - acc: 0.9211 - val_loss: 0.4079 - val_acc: 0.9221\n",
      "Epoch 113/150\n",
      "3183/3183 [==============================] - 2s 541us/step - loss: 0.4126 - acc: 0.9215 - val_loss: 0.4026 - val_acc: 0.9221\n",
      "Epoch 114/150\n",
      "3183/3183 [==============================] - 2s 541us/step - loss: 0.4074 - acc: 0.9221 - val_loss: 0.3973 - val_acc: 0.9234\n",
      "Epoch 115/150\n",
      "3183/3183 [==============================] - 2s 542us/step - loss: 0.4022 - acc: 0.9230 - val_loss: 0.3920 - val_acc: 0.9234\n",
      "Epoch 116/150\n",
      "3183/3183 [==============================] - 2s 541us/step - loss: 0.3971 - acc: 0.9233 - val_loss: 0.3867 - val_acc: 0.9246\n",
      "Epoch 117/150\n",
      "3183/3183 [==============================] - 2s 542us/step - loss: 0.3920 - acc: 0.9227 - val_loss: 0.3815 - val_acc: 0.9259\n",
      "Epoch 118/150\n",
      "3183/3183 [==============================] - 2s 545us/step - loss: 0.3869 - acc: 0.9237 - val_loss: 0.3763 - val_acc: 0.9284\n",
      "Epoch 119/150\n"
     ]
    },
    {
     "name": "stdout",
     "output_type": "stream",
     "text": [
      "3183/3183 [==============================] - 2s 542us/step - loss: 0.3818 - acc: 0.9243 - val_loss: 0.3711 - val_acc: 0.9296\n",
      "Epoch 120/150\n",
      "3183/3183 [==============================] - 2s 542us/step - loss: 0.3768 - acc: 0.9252 - val_loss: 0.3659 - val_acc: 0.9296\n",
      "Epoch 121/150\n",
      "3183/3183 [==============================] - 2s 543us/step - loss: 0.3718 - acc: 0.9268 - val_loss: 0.3608 - val_acc: 0.9296\n",
      "Epoch 122/150\n",
      "3183/3183 [==============================] - 2s 542us/step - loss: 0.3668 - acc: 0.9249 - val_loss: 0.3558 - val_acc: 0.9296\n",
      "Epoch 123/150\n",
      "3183/3183 [==============================] - 2s 543us/step - loss: 0.3619 - acc: 0.9265 - val_loss: 0.3508 - val_acc: 0.9296\n",
      "Epoch 124/150\n",
      "3183/3183 [==============================] - 2s 541us/step - loss: 0.3571 - acc: 0.9271 - val_loss: 0.3458 - val_acc: 0.9296\n",
      "Epoch 125/150\n",
      "3183/3183 [==============================] - 2s 542us/step - loss: 0.3523 - acc: 0.9274 - val_loss: 0.3409 - val_acc: 0.9296\n",
      "Epoch 126/150\n",
      "3183/3183 [==============================] - 2s 542us/step - loss: 0.3476 - acc: 0.9271 - val_loss: 0.3361 - val_acc: 0.9296\n",
      "Epoch 127/150\n",
      "3183/3183 [==============================] - 2s 543us/step - loss: 0.3429 - acc: 0.9284 - val_loss: 0.3313 - val_acc: 0.9296\n",
      "Epoch 128/150\n",
      "3183/3183 [==============================] - 2s 541us/step - loss: 0.3383 - acc: 0.9281 - val_loss: 0.3266 - val_acc: 0.9309\n",
      "Epoch 129/150\n",
      "3183/3183 [==============================] - 2s 544us/step - loss: 0.3337 - acc: 0.9281 - val_loss: 0.3220 - val_acc: 0.9309\n",
      "Epoch 130/150\n",
      "3183/3183 [==============================] - 2s 541us/step - loss: 0.3293 - acc: 0.9296 - val_loss: 0.3175 - val_acc: 0.9309\n",
      "Epoch 131/150\n",
      "3183/3183 [==============================] - 2s 540us/step - loss: 0.3249 - acc: 0.9293 - val_loss: 0.3130 - val_acc: 0.9309\n",
      "Epoch 132/150\n",
      "3183/3183 [==============================] - 2s 541us/step - loss: 0.3206 - acc: 0.9296 - val_loss: 0.3086 - val_acc: 0.9309\n",
      "Epoch 133/150\n",
      "3183/3183 [==============================] - 2s 542us/step - loss: 0.3164 - acc: 0.9296 - val_loss: 0.3043 - val_acc: 0.9309\n",
      "Epoch 134/150\n",
      "3183/3183 [==============================] - 2s 540us/step - loss: 0.3122 - acc: 0.9299 - val_loss: 0.3001 - val_acc: 0.9322\n",
      "Epoch 135/150\n",
      "3183/3183 [==============================] - 2s 541us/step - loss: 0.3081 - acc: 0.9306 - val_loss: 0.2959 - val_acc: 0.9322\n",
      "Epoch 136/150\n",
      "3183/3183 [==============================] - 2s 544us/step - loss: 0.3041 - acc: 0.9306 - val_loss: 0.2918 - val_acc: 0.9309\n",
      "Epoch 137/150\n",
      "3183/3183 [==============================] - 2s 542us/step - loss: 0.3002 - acc: 0.9306 - val_loss: 0.2878 - val_acc: 0.9309\n",
      "Epoch 138/150\n",
      "3183/3183 [==============================] - 2s 542us/step - loss: 0.2964 - acc: 0.9306 - val_loss: 0.2839 - val_acc: 0.9322\n",
      "Epoch 139/150\n",
      "3183/3183 [==============================] - 2s 540us/step - loss: 0.2927 - acc: 0.9309 - val_loss: 0.2801 - val_acc: 0.9334\n",
      "Epoch 140/150\n",
      "3183/3183 [==============================] - 2s 541us/step - loss: 0.2890 - acc: 0.9312 - val_loss: 0.2764 - val_acc: 0.9334\n",
      "Epoch 141/150\n",
      "3183/3183 [==============================] - 2s 541us/step - loss: 0.2854 - acc: 0.9318 - val_loss: 0.2727 - val_acc: 0.9347\n",
      "Epoch 142/150\n",
      "3183/3183 [==============================] - 2s 542us/step - loss: 0.2819 - acc: 0.9325 - val_loss: 0.2692 - val_acc: 0.9347\n",
      "Epoch 143/150\n",
      "3183/3183 [==============================] - 2s 542us/step - loss: 0.2785 - acc: 0.9331 - val_loss: 0.2657 - val_acc: 0.9347\n",
      "Epoch 144/150\n",
      "3183/3183 [==============================] - 2s 542us/step - loss: 0.2752 - acc: 0.9343 - val_loss: 0.2623 - val_acc: 0.9347\n",
      "Epoch 145/150\n",
      "3183/3183 [==============================] - 2s 543us/step - loss: 0.2719 - acc: 0.9340 - val_loss: 0.2590 - val_acc: 0.9384\n",
      "Epoch 146/150\n",
      "3183/3183 [==============================] - 2s 541us/step - loss: 0.2687 - acc: 0.9353 - val_loss: 0.2557 - val_acc: 0.9384\n",
      "Epoch 147/150\n",
      "3183/3183 [==============================] - 2s 541us/step - loss: 0.2656 - acc: 0.9353 - val_loss: 0.2526 - val_acc: 0.9397\n",
      "Epoch 148/150\n",
      "3183/3183 [==============================] - 2s 540us/step - loss: 0.2626 - acc: 0.9356 - val_loss: 0.2495 - val_acc: 0.9410\n",
      "Epoch 149/150\n",
      "3183/3183 [==============================] - 2s 541us/step - loss: 0.2596 - acc: 0.9375 - val_loss: 0.2465 - val_acc: 0.9410\n",
      "Epoch 150/150\n",
      "3183/3183 [==============================] - 2s 541us/step - loss: 0.2568 - acc: 0.9381 - val_loss: 0.2436 - val_acc: 0.9410\n"
     ]
    }
   ],
   "source": [
    "history = model.fit(X_train,y_train,epochs=150, batch_size=10,validation_data=(X_val, y_val))"
   ]
  },
  {
   "cell_type": "code",
   "execution_count": 153,
   "metadata": {},
   "outputs": [
    {
     "data": {
      "text/plain": [
       "<matplotlib.legend.Legend at 0x7f2f72a04128>"
      ]
     },
     "execution_count": 153,
     "metadata": {},
     "output_type": "execute_result"
    },
    {
     "data": {
      "image/png": "[encoded data removed]",
      "text/plain": [
       "<Figure size 432x288 with 1 Axes>"
      ]
     },
     "metadata": {},
     "output_type": "display_data"
    },
    {
     "data": {
      "image/png": "[encoded data removed]",
      "text/plain": [
       "<Figure size 432x288 with 1 Axes>"
      ]
     },
     "metadata": {},
     "output_type": "display_data"
    }
   ],
   "source": [
    "acc = history.history['acc']\n",
    "val_acc = history.history['val_acc']\n",
    "loss = history.history['loss']\n",
    "val_loss = history.history['val_loss']\n",
    "\n",
    "epochs = range(len(acc))\n",
    "\n",
    "plt.plot(epochs, acc, 'b', label='Training acc')\n",
    "plt.plot(epochs, val_acc, 'r', label='Validation acc')\n",
    "plt.title('Training and validation accuracy')\n",
    "plt.legend()\n",
    "\n",
    "plt.figure()\n",
    "\n",
    "plt.plot(epochs, loss, 'b', label='Training loss')\n",
    "plt.plot(epochs, val_loss, 'r', label='Validation loss')\n",
    "plt.title('Training and validation loss')\n",
    "plt.legend()"
   ]
  },
  {
   "cell_type": "code",
   "execution_count": 129,
   "metadata": {},
   "outputs": [
    {
     "name": "stdout",
     "output_type": "stream",
     "text": [
      "_________________________________________________________________\n",
      "Layer (type)                 Output Shape              Param #   \n",
      "=================================================================\n",
      "dense_50 (Dense)             (None, 768)               590592    \n",
      "_________________________________________________________________\n",
      "dense_51 (Dense)             (None, 1024)              787456    \n",
      "_________________________________________________________________\n",
      "dense_52 (Dense)             (None, 768)               787200    \n",
      "_________________________________________________________________\n",
      "dense_53 (Dense)             (None, 2)                 1538      \n",
      "=================================================================\n",
      "Total params: 2,166,786\n",
      "Trainable params: 2,166,786\n",
      "Non-trainable params: 0\n",
      "_________________________________________________________________\n"
     ]
    }
   ],
   "source": [
    "model.summary()"
   ]
  },
  {
   "cell_type": "code",
   "execution_count": 154,
   "metadata": {},
   "outputs": [],
   "source": [
    "# load image data\n",
    "test_image=100\n",
    "filtered_images_path= glob.glob('/mnt/efs/filters_to_images/nash_images/test/*')[0:test_image]\n",
    "unfiltered_imgs_path=glob.glob('/mnt/efs/filters_to_images/unfiltered_images/*')[15000:15000+test_image]"
   ]
  },
  {
   "cell_type": "code",
   "execution_count": 155,
   "metadata": {},
   "outputs": [
    {
     "name": "stdout",
     "output_type": "stream",
     "text": [
      "/mnt/efs/filters_to_images/unfiltered_images/ILSVRC2012_val_00003760.JPEG\n"
     ]
    }
   ],
   "source": [
    "hist_list=[]\n",
    "for image_path in (filtered_images_path+unfiltered_imgs_path):\n",
    "    try:\n",
    "        hist_list.append(img_to_hist(image_path))\n",
    "    except:\n",
    "        print(image_path)\n",
    "X_test=np.array(hist_list)\n",
    "\n",
    "X_test=normalize(X_test)"
   ]
  },
  {
   "cell_type": "code",
   "execution_count": 156,
   "metadata": {},
   "outputs": [
    {
     "data": {
      "text/plain": [
       "(199, 768)"
      ]
     },
     "execution_count": 156,
     "metadata": {},
     "output_type": "execute_result"
    }
   ],
   "source": [
    "X_test.shape"
   ]
  },
  {
   "cell_type": "code",
   "execution_count": 157,
   "metadata": {},
   "outputs": [
    {
     "data": {
      "text/plain": [
       "(199, 2)"
      ]
     },
     "execution_count": 157,
     "metadata": {},
     "output_type": "execute_result"
    }
   ],
   "source": [
    "filtered_labels=np.full((len(filtered_images_path),2),(1,0),np.bool)\n",
    "unfiltered_labels=np.full((len(unfiltered_imgs_path),2),(0,1),np.bool)[0:X_test.shape[0]-test_image]\n",
    "y_test=np.concatenate([filtered_labels,unfiltered_labels])\n",
    "y_test.shape"
   ]
  },
  {
   "cell_type": "code",
   "execution_count": 158,
   "metadata": {},
   "outputs": [
    {
     "data": {
      "text/plain": [
       "array([[0.9357413 , 0.06425868]], dtype=float32)"
      ]
     },
     "execution_count": 158,
     "metadata": {},
     "output_type": "execute_result"
    }
   ],
   "source": [
    "x=np.expand_dims(X_val[15], axis=0)\n",
    "model.predict(x)"
   ]
  },
  {
   "cell_type": "code",
   "execution_count": 159,
   "metadata": {
    "scrolled": false
   },
   "outputs": [
    {
     "name": "stdout",
     "output_type": "stream",
     "text": [
      "[[0.10583858 0.89416146]]\n",
      "[[0.14660178 0.8533982 ]]\n",
      "[[0.28179926 0.7182007 ]]\n",
      "[[0.17315161 0.8268483 ]]\n",
      "[[0.12026056 0.87973946]]\n",
      "[[0.1494761 0.8505239]]\n",
      "[[0.44022167 0.5597783 ]]\n",
      "[[0.15047936 0.8495207 ]]\n",
      "[[0.11522503 0.884775  ]]\n",
      "[[0.11566543 0.8843346 ]]\n",
      "[[0.17425762 0.8257424 ]]\n",
      "[[0.1296515 0.8703485]]\n",
      "[[0.13710463 0.86289537]]\n",
      "[[0.1314284 0.8685716]]\n",
      "[[0.12384032 0.8761597 ]]\n",
      "[[0.12682235 0.87317765]]\n",
      "[[0.13352467 0.86647534]]\n",
      "[[0.2737842 0.7262158]]\n",
      "[[0.20661195 0.79338807]]\n",
      "[[0.41179425 0.58820575]]\n",
      "[[0.12721616 0.87278384]]\n",
      "[[0.13198477 0.8680153 ]]\n",
      "[[0.10635015 0.8936499 ]]\n",
      "[[0.11872929 0.8812707 ]]\n",
      "[[0.11076867 0.8892313 ]]\n",
      "[[0.1294594 0.8705406]]\n",
      "[[0.1163788  0.88362116]]\n",
      "[[0.15513715 0.8448629 ]]\n",
      "[[0.36298445 0.6370155 ]]\n",
      "[[0.24344152 0.7565584 ]]\n",
      "[[0.55579793 0.44420204]]\n",
      "[[0.11660314 0.8833969 ]]\n",
      "[[0.4204881  0.57951194]]\n",
      "[[0.36302602 0.6369739 ]]\n",
      "[[0.4188786  0.58112144]]\n",
      "[[0.2967483 0.7032517]]\n",
      "[[0.10827409 0.8917259 ]]\n",
      "[[0.39076743 0.60923254]]\n",
      "[[0.14331199 0.85668796]]\n",
      "[[0.16327995 0.83672005]]\n",
      "[[0.19103171 0.8089683 ]]\n",
      "[[0.10227633 0.8977236 ]]\n",
      "[[0.14551906 0.854481  ]]\n",
      "[[0.13441667 0.86558336]]\n",
      "[[0.10422058 0.89577943]]\n",
      "[[0.19762547 0.8023746 ]]\n",
      "[[0.17236964 0.82763034]]\n",
      "[[0.20062011 0.7993799 ]]\n",
      "[[0.12502271 0.87497735]]\n",
      "[[0.39999965 0.6000004 ]]\n",
      "[[0.09516864 0.90483135]]\n",
      "[[0.14022154 0.85977846]]\n",
      "[[0.11751936 0.8824807 ]]\n",
      "[[0.16387229 0.83612776]]\n",
      "[[0.09963131 0.9003687 ]]\n",
      "[[0.20939429 0.7906057 ]]\n",
      "[[0.32935768 0.6706423 ]]\n",
      "[[0.23597476 0.7640252 ]]\n",
      "[[0.17204781 0.8279522 ]]\n",
      "[[0.19516577 0.8048342 ]]\n",
      "[[0.40136823 0.5986318 ]]\n",
      "[[0.11594513 0.8840549 ]]\n",
      "[[0.09914193 0.90085804]]\n",
      "[[0.35066506 0.6493349 ]]\n",
      "[[0.10646348 0.89353645]]\n",
      "[[0.15907499 0.84092504]]\n",
      "[[0.22549702 0.774503  ]]\n",
      "[[0.12981163 0.87018836]]\n",
      "[[0.11543492 0.88456506]]\n",
      "[[0.11550026 0.8844997 ]]\n",
      "[[0.1457189  0.85428107]]\n",
      "[[0.41113508 0.5888649 ]]\n",
      "[[0.20105028 0.7989497 ]]\n",
      "[[0.18859106 0.8114089 ]]\n",
      "[[0.24283288 0.7571671 ]]\n",
      "[[0.13479343 0.86520654]]\n",
      "[[0.22944556 0.77055436]]\n",
      "[[0.13782452 0.86217546]]\n",
      "[[0.15050681 0.8494932 ]]\n",
      "[[0.21761934 0.78238064]]\n",
      "[[0.2927177 0.7072823]]\n",
      "[[0.22939332 0.77060664]]\n",
      "[[0.15969945 0.84030056]]\n",
      "[[0.37747708 0.6225229 ]]\n",
      "[[0.21366553 0.78633446]]\n",
      "[[0.36949643 0.6305036 ]]\n",
      "[[0.27932736 0.72067267]]\n",
      "[[0.13965562 0.86034435]]\n",
      "[[0.44278407 0.5572159 ]]\n",
      "[[0.16142277 0.8385772 ]]\n",
      "[[0.23823301 0.761767  ]]\n",
      "[[0.15221024 0.8477898 ]]\n",
      "[[0.21157807 0.788422  ]]\n",
      "[[0.12570474 0.8742953 ]]\n",
      "[[0.14232065 0.8576793 ]]\n",
      "[[0.47923735 0.5207627 ]]\n",
      "[[0.34125307 0.65874696]]\n",
      "[[0.30388457 0.6961154 ]]\n",
      "[[0.17742997 0.82257   ]]\n"
     ]
    }
   ],
   "source": [
    "for x in X_test[100:200]:\n",
    "    x=np.expand_dims(x, axis=0)\n",
    "    print(model.predict(x))\n",
    "    "
   ]
  },
  {
   "cell_type": "code",
   "execution_count": 160,
   "metadata": {},
   "outputs": [
    {
     "name": "stdout",
     "output_type": "stream",
     "text": [
      "199/199 [==============================] - 0s 76us/step\n"
     ]
    },
    {
     "data": {
      "text/plain": [
       "[0.25192081014714646, 0.9346733668341709]"
      ]
     },
     "execution_count": 160,
     "metadata": {},
     "output_type": "execute_result"
    }
   ],
   "source": [
    "model.evaluate(X_test, y_test, )"
   ]
  },
  {
   "cell_type": "code",
   "execution_count": null,
   "metadata": {},
   "outputs": [],
   "source": []
  }
 ],
 "metadata": {
  "kernelspec": {
   "display_name": "Environment (conda_tensorflow_p36)",
   "language": "python",
   "name": "conda_tensorflow_p36"
  },
  "language_info": {
   "codemirror_mode": {
    "name": "ipython",
    "version": 3
   },
   "file_extension": ".py",
   "mimetype": "text/x-python",
   "name": "python",
   "nbconvert_exporter": "python",
   "pygments_lexer": "ipython3",
   "version": "3.6.6"
  }
 },
 "nbformat": 4,
 "nbformat_minor": 2
}
