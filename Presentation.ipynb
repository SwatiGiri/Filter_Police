{
 "cells": [
  {
   "cell_type": "markdown",
   "metadata": {},
   "source": [
    "<h1> Training data for VGG19 model from Instagram</h1>"
   ]
  },
  {
   "cell_type": "markdown",
   "metadata": {},
   "source": [
    "<table><tr><td>\n",
    "<img   src=\"imgs_with_filter/imgs_with_filter/644.jpg\" width = \"250\"> </td>\n",
    "<td>\n",
    "<img  src= \"imgs_with_filter/imgs_with_filter/837.jpg\" width = \"250\">\n",
    "</td>\n",
    "<td>\n",
    "<img  src= \"imgs_with_filter/imgs_with_filter/773.jpg\" width = \"250\">\n",
    "</td>\n",
    "<td>\n",
    "<img  src=\"imgs_with_filter/imgs_with_filter/534.jpg\" width=\"250\">\n",
    "</td>\n",
    "</tr>\n",
    "</table>"
   ]
  },
  {
   "cell_type": "markdown",
   "metadata": {},
   "source": [
    "<h1> VGG19 Model </h1>"
   ]
  },
  {
   "cell_type": "markdown",
   "metadata": {
    "collapsed": true
   },
   "source": [
    "<img src=\"Plots/Vgg19_comparisionmodelJPG.JPG\">"
   ]
  },
  {
   "cell_type": "markdown",
   "metadata": {},
   "source": [
    "<h1>Imagenet Unfiltered Images And Filtered Images for training InceptionV3 model</h1>"
   ]
  },
  {
   "cell_type": "markdown",
   "metadata": {},
   "source": [
    "<table><tr><td>\n",
    "<img  src= \"Images/original.JPEG\" width = \"250\">\n",
    "</td>\n",
    "<td>\n",
    "<img src=\"Images/ILSVRC2012_val_00000043.JPEG\"width = \"250\">\n",
    "</td>\n",
    "<td>\n",
    "<img src=\"Images/orig_bird.JPEG\" width=\"250\">\n",
    "</td>\n",
    "<td>\n",
    "<img src=\"Images/ILSVRC2012_val_00000414.JPEG\" width = \"250\">\n",
    "</td>\n",
    "</tr>\n",
    "</table>"
   ]
  },
  {
   "cell_type": "markdown",
   "metadata": {},
   "source": [
    "Epoch 1/5\n",
    "176/175 [==============================] - 35s 199ms/step - loss: 3.4029 - acc: 0.7244 - val_loss: 1.6322 - val_acc: 0.8265\n",
    "\n",
    "Epoch 2/5\n",
    "176/175 [==============================] - 35s 198ms/step - loss: 1.1827 - acc: 0.8642 - val_loss: 1.2578 - val_acc: 0.8082\n",
    "\n",
    "Epoch 3/5\n",
    "176/175 [==============================] - 35s 199ms/step - loss: 0.4469 - acc: 0.8960 - val_loss: 0.6081 - val_acc: 0.8379\n",
    "\n",
    "Epoch 4/5\n",
    "176/175 [==============================] - 35s 199ms/step - loss: 0.1417 - acc: 0.9619 - val_loss: 0.5612 - val_acc: 0.8447\n",
    "\n",
    "Epoch 5/5\n",
    "176/175 [==============================] - 35s 199ms/step - loss: 0.0558 - <strong>acc: 0.9932</strong> - val_loss: 0.5370 - <strong>val_acc: 0.8699</strong>\n",
    "\n"
   ]
  },
  {
   "cell_type": "markdown",
   "metadata": {},
   "source": [
    "<h1>Lets see if we can Identify which Filter</h1>"
   ]
  },
  {
   "cell_type": "markdown",
   "metadata": {},
   "source": [
    "<table><tr>\n",
    "<td>\n",
    "<img src=\"Plots/2018-07-22.png\">\n",
    "<h1>RGB Histogram for unfiltered Image</h1>\n",
    "</td>\n",
    "<td>\n",
    "<img src=\"Plots/filtered_histogram.png\">\n",
    "<h2>RGB Histogram for filtered Image</h2>\n",
    "</td>\n",
    "\n"
   ]
  },
  {
   "cell_type": "markdown",
   "metadata": {},
   "source": [
    "_________________________________________________________________\n",
    "Layer (type)                 Output Shape              Param #   \n",
    "\n",
    "dense_50 (Dense)             (None, 768)               590592    \n",
    "_________________________________________________________________\n",
    "dense_51 (Dense)             (None, 1024)              787456    \n",
    "_________________________________________________________________\n",
    "dense_52 (Dense)             (None, 768)               787200    \n",
    "_________________________________________________________________\n",
    "dense_53 (Dense)             (None, 2)                 1538      \n",
    "\n",
    "Total params: 2,166,786\n",
    "Trainable params: 2,166,786\n",
    "Non-trainable params: 0\n",
    "_________________________________________________________________"
   ]
  },
  {
   "cell_type": "markdown",
   "metadata": {},
   "source": [
    "<img src=\"Plots/dataset3_(nash)_fully_connected_150epoch.jpg\">"
   ]
  },
  {
   "cell_type": "raw",
   "metadata": {},
   "source": []
  },
  {
   "cell_type": "code",
   "execution_count": null,
   "metadata": {
    "collapsed": true
   },
   "outputs": [],
   "source": []
  }
 ],
 "metadata": {
  "kernelspec": {
   "display_name": "Python [default]",
   "language": "python",
   "name": "python3"
  },
  "language_info": {
   "codemirror_mode": {
    "name": "ipython",
    "version": 3
   },
   "file_extension": ".py",
   "mimetype": "text/x-python",
   "name": "python",
   "nbconvert_exporter": "python",
   "pygments_lexer": "ipython3",
   "version": "3.6.3"
  }
 },
 "nbformat": 4,
 "nbformat_minor": 2
}
